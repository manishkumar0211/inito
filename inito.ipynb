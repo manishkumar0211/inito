{
 "cells": [
  {
   "cell_type": "code",
   "execution_count": 22,
   "id": "450ddfb4-9df3-413f-8fa5-a485b08daee3",
   "metadata": {},
   "outputs": [],
   "source": [
    "import os\n",
    "import json"
   ]
  },
  {
   "cell_type": "code",
   "execution_count": 23,
   "id": "1fb4691c-6a08-4b52-be21-ba83180c138d",
   "metadata": {},
   "outputs": [],
   "source": [
    "class FileSystem:\n",
    "    def __init__(self):\n",
    "        self.current_directory = '/'\n",
    "        self.root = {'/': {'type': 'dir', 'contents': {}}}\n",
    "        self.state_file = 'filesystem_state.json'"
   ]
  },
  {
   "cell_type": "code",
   "execution_count": 24,
   "id": "adbdd40b-5786-4fb9-b8ec-0bb176a15ac9",
   "metadata": {},
   "outputs": [],
   "source": [
    "def save_state(self):\n",
    "        state = {'current_directory': self.current_directory, 'root': self.root}\n",
    "        with open(self.state_file, 'w') as f:\n",
    "            json.dump(state, f)\n",
    "        print(f\"File system state saved to {self.state_file}\")"
   ]
  },
  {
   "cell_type": "code",
   "execution_count": 25,
   "id": "ee008bfa-bd35-4587-8d8a-b06fb9427fc6",
   "metadata": {},
   "outputs": [],
   "source": [
    "def load_state(self):\n",
    "        if os.path.exists(self.state_file):\n",
    "            with open(self.state_file, 'r') as f:\n",
    "                state = json.load(f)\n",
    "            self.current_directory = state['current_directory']\n",
    "            self.root = state['root']\n",
    "            print(f\"File system state loaded from {self.state_file}\")"
   ]
  },
  {
   "cell_type": "code",
   "execution_count": 26,
   "id": "fe2879ec-1dd0-42c1-8aa6-dd784587458e",
   "metadata": {},
   "outputs": [],
   "source": [
    " def run(self):\n",
    "        self.load_state()\n",
    "\n",
    "        while True:\n",
    "            command = input(f\"{self.current_directory} $ \").strip()\n",
    "            if command.lower() == 'exit':\n",
    "                self.save_state()\n",
    "                break\n",
    "\n",
    "            try:\n",
    "                self.execute_command(command)\n",
    "            except Exception as e:\n",
    "                print(f\"Error: {str(e)}\")"
   ]
  },
  {
   "cell_type": "code",
   "execution_count": 27,
   "id": "a400ac62-1c6b-4312-8ba8-3fdb2e4f2ff7",
   "metadata": {},
   "outputs": [],
   "source": [
    "def execute_command(self, command):\n",
    "        parts = command.split()\n",
    "        if not parts:\n",
    "            return\n",
    "\n",
    "        operation = parts[0].lower()\n",
    "        args = parts[1:]\n",
    "\n",
    "        if operation == 'mkdir':\n",
    "            self.mkdir(*args)\n",
    "        elif operation == 'cd':\n",
    "            self.cd(*args)\n",
    "        elif operation == 'ls':\n",
    "            self.ls(*args)\n",
    "        elif operation == 'grep':\n",
    "            self.grep(*args)\n",
    "        elif operation == 'cat':\n",
    "            self.cat(*args)\n",
    "        elif operation == 'touch':\n",
    "            self.touch(*args)\n",
    "        elif operation == 'echo':\n",
    "            self.echo(*args)\n",
    "        elif operation == 'mv':\n",
    "            self.mv(*args)\n",
    "        elif operation == 'cp':\n",
    "            self.cp(*args)\n",
    "        elif operation == 'rm':\n",
    "            self.rm(*args)\n",
    "        else:\n",
    "            print(\"Invalid command\")"
   ]
  },
  {
   "cell_type": "code",
   "execution_count": 28,
   "id": "6e3cf452-d930-4a73-a325-c452e2970a84",
   "metadata": {},
   "outputs": [],
   "source": [
    "def get_path(self, path):\n",
    "        if path.startswith('/'):\n",
    "            return path\n",
    "        else:\n",
    "            return os.path.join(self.current_directory, path)"
   ]
  },
  {
   "cell_type": "code",
   "execution_count": 29,
   "id": "b02d3f9e-a2a3-4c50-be7f-48a9ab493ea2",
   "metadata": {},
   "outputs": [],
   "source": [
    "def mkdir(self, directory_name):\n",
    "        path = self.get_path(directory_name)\n",
    "        if path not in self.root:\n",
    "            self.root[path] = {'type': 'dir', 'contents': {}}\n",
    "        else:\n",
    "            print(f\"Error: Directory '{directory_name}' already exists.\")"
   ]
  },
  {
   "cell_type": "code",
   "execution_count": 30,
   "id": "ad37829d-6223-4adb-8680-8856e52f9a06",
   "metadata": {},
   "outputs": [],
   "source": [
    "def cd(self, directory):\n",
    "        path = self.get_path(directory)\n",
    "        if path in self.root and self.root[path]['type'] == 'dir':\n",
    "            self.current_directory = path\n",
    "        else:\n",
    "            print(f\"Error: Directory '{directory}' not found.\")"
   ]
  },
  {
   "cell_type": "code",
   "execution_count": 31,
   "id": "2e2083e1-218c-46b2-8647-6aa62ab6e461",
   "metadata": {},
   "outputs": [],
   "source": [
    "def ls(self, *args):\n",
    "        path = self.get_path(args[0]) if args else self.current_directory\n",
    "        if path in self.root and self.root[path]['type'] == 'dir':\n",
    "            contents = self.root[path]['contents']\n",
    "            print('\\n'.join(contents.keys()))\n",
    "        else:\n",
    "            print(f\"Error: Directory '{path}' not found.\")"
   ]
  },
  {
   "cell_type": "code",
   "execution_count": 32,
   "id": "cf9c3ca2-aad1-4c95-8a0f-7b6a10ec9789",
   "metadata": {},
   "outputs": [],
   "source": [
    "def grep(self, pattern, file_path):\n",
    "        path = self.get_path(file_path)\n",
    "        if path in self.root and self.root[path]['type'] == 'file':\n",
    "            contents = self.root[path]['contents']\n",
    "            matches = [line for line in contents.split('\\n') if pattern in line]\n",
    "            print('\\n'.join(matches))\n",
    "        else:\n",
    "            print(f\"Error: File '{file_path}' not found.\")"
   ]
  },
  {
   "cell_type": "code",
   "execution_count": 33,
   "id": "8b9d78a1-17a4-42ab-ac72-32b58f5b654a",
   "metadata": {},
   "outputs": [],
   "source": [
    "def cat(self, file_path):\n",
    "        path = self.get_path(file_path)\n",
    "        if path in self.root and self.root[path]['type'] == 'file':\n",
    "            contents = self.root[path]['contents']\n",
    "            print(contents)\n",
    "        else:\n",
    "            print(f\"Error: File '{file_path}' not found.\")"
   ]
  },
  {
   "cell_type": "code",
   "execution_count": 34,
   "id": "05427397-a62a-4d33-89a7-fe5a376a1d1c",
   "metadata": {},
   "outputs": [],
   "source": [
    "def touch(self, file_name):\n",
    "        path = self.get_path(file_name)\n",
    "        if path not in self.root:\n",
    "            self.root[path] = {'type': 'file', 'contents': ''}\n",
    "        else:\n",
    "            print(f\"Error: File '{file_name}' already exists.\")"
   ]
  },
  {
   "cell_type": "code",
   "execution_count": 35,
   "id": "fdaf0dd1-b713-4ff3-a2c4-f434116ea7e4",
   "metadata": {},
   "outputs": [],
   "source": [
    "def echo(self, text, file_path):\n",
    "        path = self.get_path(file_path)\n",
    "        if path in self.root and self.root[path]['type'] == 'file':\n",
    "            self.root[path]['contents'] = text\n",
    "        else:\n",
    "            print(f\"Error: File '{file_path}' not found.\")"
   ]
  },
  {
   "cell_type": "code",
   "execution_count": 36,
   "id": "5f90396d-dd7e-49d1-94d8-b92a2e78e214",
   "metadata": {},
   "outputs": [],
   "source": [
    "def mv(self, source_path, destination_path):\n",
    "        source = self.get_path(source_path)\n",
    "        destination = self.get_path(destination_path)\n",
    "\n",
    "        if source in self.root:\n",
    "            item = self.root.pop(source)\n",
    "            self.root[destination] = item\n",
    "        else:\n",
    "            print(f\"Error: Source path '{source_path}' not found.\")"
   ]
  },
  {
   "cell_type": "code",
   "execution_count": 37,
   "id": "eb4272e4-eb7e-47a9-8fee-b1ec67c8a347",
   "metadata": {},
   "outputs": [],
   "source": [
    "def cp(self, source_path, destination_path):\n",
    "        source = self.get_path(source_path)\n",
    "        destination = self.get_path(destination_path)\n",
    "\n",
    "        if source in self.root:\n",
    "            item = self.root[source]\n",
    "            if destination not in self.root:\n",
    "                self.root[destination] = item.copy()\n",
    "            else:\n",
    "                print(f\"Error: Destination path '{destination_path}' already exists.\")\n",
    "        else:\n",
    "            print(f\"Error: Source path '{source_path}' not found.\")"
   ]
  },
  {
   "cell_type": "code",
   "execution_count": 38,
   "id": "a2f60294-ffb8-4d00-83cf-cbbac5b50391",
   "metadata": {},
   "outputs": [],
   "source": [
    "def rm(self, path):\n",
    "        path = self.get_path(path)\n",
    "        if path in self.root:\n",
    "            del self.root[path]\n",
    "        else:\n",
    "            print(f\"Error: Path '{path}' not found.\")"
   ]
  },
  {
   "cell_type": "code",
   "execution_count": 41,
   "id": "6f9ed770-e3f8-463b-af74-9c907a14b72f",
   "metadata": {},
   "outputs": [
    {
     "ename": "AttributeError",
     "evalue": "'FileSystem' object has no attribute 'cd'",
     "output_type": "error",
     "traceback": [
      "\u001b[1;31m---------------------------------------------------------------------------\u001b[0m",
      "\u001b[1;31mAttributeError\u001b[0m                            Traceback (most recent call last)",
      "Cell \u001b[1;32mIn[41], line 3\u001b[0m\n\u001b[0;32m      1\u001b[0m \u001b[38;5;28;01mif\u001b[39;00m \u001b[38;5;18m__name__\u001b[39m \u001b[38;5;241m==\u001b[39m \u001b[38;5;124m\"\u001b[39m\u001b[38;5;124m__main__\u001b[39m\u001b[38;5;124m\"\u001b[39m:\n\u001b[0;32m      2\u001b[0m     fs \u001b[38;5;241m=\u001b[39m FileSystem()\n\u001b[1;32m----> 3\u001b[0m     \u001b[43mfs\u001b[49m\u001b[38;5;241;43m.\u001b[39;49m\u001b[43mcd\u001b[49m()\n",
      "\u001b[1;31mAttributeError\u001b[0m: 'FileSystem' object has no attribute 'cd'"
     ]
    }
   ],
   "source": [
    "if __name__ == \"__main__\":\n",
    "    fs = FileSystem()\n",
    "    fs.cd()"
   ]
  },
  {
   "cell_type": "code",
   "execution_count": null,
   "id": "422d1962-2e53-481d-b9ce-c232142a3a90",
   "metadata": {},
   "outputs": [],
   "source": []
  }
 ],
 "metadata": {
  "kernelspec": {
   "display_name": "Python 3 (ipykernel)",
   "language": "python",
   "name": "python3"
  },
  "language_info": {
   "codemirror_mode": {
    "name": "ipython",
    "version": 3
   },
   "file_extension": ".py",
   "mimetype": "text/x-python",
   "name": "python",
   "nbconvert_exporter": "python",
   "pygments_lexer": "ipython3",
   "version": "3.11.5"
  }
 },
 "nbformat": 4,
 "nbformat_minor": 5
}
